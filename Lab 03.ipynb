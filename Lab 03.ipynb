{
 "cells": [
  {
   "cell_type": "markdown",
   "metadata": {},
   "source": [
    ">Date: 01/09/23\n",
    "# Lab 03 - Program to find Mean, Minimum, Maximum, Range, Mode and Median for given values"
   ]
  },
  {
   "cell_type": "code",
   "execution_count": 50,
   "metadata": {},
   "outputs": [
    {
     "name": "stdout",
     "output_type": "stream",
     "text": [
      "Manually Calculated Values: \n",
      "Mean= 542.94 \n",
      "Minimum= 17 \n",
      "Maximum= 999 \n",
      "Range= 982 \n",
      "Median= 582.5\n",
      "\n",
      "Predefined Calculated Values: \n",
      "Mean= 542.94 \n",
      "Minimum= 17 \n",
      "Maximum= 999 \n",
      "Range= 982\n"
     ]
    }
   ],
   "source": [
    "def marcal(num): #Manual Calculation function\n",
    "    minimum=num[0]\n",
    "    maximum=num[0]\n",
    "    sum=0\n",
    "    count=0\n",
    "    median=0\n",
    "    for i in num:\n",
    "        sum=sum+i\n",
    "        count=count+1\n",
    "        if i<minimum:\n",
    "            minimum=i\n",
    "        elif i>maximum:\n",
    "            maximum=i\n",
    "    for k in range (0,count,1): #Manual sorting for median calculation\n",
    "      for j in range (k+1,count):\n",
    "          if(num[k]>num[j]):\n",
    "              temp=num[k]\n",
    "              num[k]=num[j]\n",
    "              num[j]=temp\n",
    "    if count%2==0:\n",
    "       val1=int(count/2)\n",
    "       val2=val1+1\n",
    "       median = (num[val1]+(num[val2]))/2\n",
    "    print(\"Manually Calculated Values:\",\"\\nMean=\",(sum/count),\"\\nMinimum=\",minimum,\"\\nMaximum=\",maximum,\"\\nRange=\",(maximum-minimum),\"\\nMedian=\",median)\n",
    "\n",
    "def precal(num): #Predefined calculation function\n",
    "    print(\"\\nPredefined Calculated Values:\",\"\\nMean=\",sum(num)/len(num),\"\\nMinimum=\",min(num),\"\\nMaximum=\",max(num),\"\\nRange=\",max(num)-min(num))\n",
    "\n",
    "\n",
    "num=[761, 123, 585, 275, 194, 840, 999, 622, 763, 40, 825, 687, 402, 338, 611, 987, 739, 95, 819, 568, 320, 126, 688, 948, 514, 223, 751, 379, 857, 767, 492, 162, 437, 934, 430, 343, 725, 511, 580, 678, 708, 823, 346, 179, 786, 663, 195, 890, 267, 502, 214, 300, 786, 961, 235, 559, 992, 919, 948, 318, 57, 787, 653, 317, 305, 172, 966, 182, 970, 17, 89, 624, 629, 595, 485, 752, 984, 978, 460, 124, 321, 256, 614, 852, 811, 561, 127, 207, 406, 615, 888, 391, 691, 470, 911, 401, 137, 600, 478, 682]\n",
    "marcal(num)\n",
    "precal(num)"
   ]
  }
 ],
 "metadata": {
  "kernelspec": {
   "display_name": "Python 3",
   "language": "python",
   "name": "python3"
  },
  "language_info": {
   "codemirror_mode": {
    "name": "ipython",
    "version": 3
   },
   "file_extension": ".py",
   "mimetype": "text/x-python",
   "name": "python",
   "nbconvert_exporter": "python",
   "pygments_lexer": "ipython3",
   "version": "3.11.4"
  },
  "orig_nbformat": 4
 },
 "nbformat": 4,
 "nbformat_minor": 2
}
