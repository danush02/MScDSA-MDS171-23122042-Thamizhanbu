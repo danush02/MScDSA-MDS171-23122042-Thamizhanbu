{
 "cells": [
  {
   "cell_type": "markdown",
   "metadata": {},
   "source": [
    "# Lab 04 - Write data into a file and analyze and display the data"
   ]
  },
  {
   "cell_type": "code",
   "execution_count": 1,
   "metadata": {},
   "outputs": [
    {
     "name": "stdout",
     "output_type": "stream",
     "text": [
      "Data added to file successfully\n",
      "Dish Name     Total Orders     Total Income\n",
      "dish1               21               630\n",
      "dish2               40               1600\n",
      "dish3               19               950\n",
      "dish4               10               600\n",
      "dish5               11               495\n",
      "dish6               20               1600\n",
      "\n",
      "The following dish(s) have maximum sales\n",
      "dish2 - total order value = 1600\n",
      "dish6 - total order value = 1600\n"
     ]
    }
   ],
   "source": [
    "def fileOpen(): #function to initiate a new file and write column header\n",
    "    file=open(\"order details.txt\",\"w+\")\n",
    "    file.write(\"Dish Name;Number of Order;Price per item;Total Bill Amount\")\n",
    "\n",
    "def fileWrite(dish,orders,priceout,total): #function to write user input in data\n",
    "    file=open(\"order details.txt\",\"a+\")\n",
    "    file.write(\"\\n\"+dish+\";\"+str(orders)+\";\"+str(priceout)+\";\"+str(total))\n",
    "    file.close()\n",
    "    return True\n",
    "filetype=input(\"Want a new file to write data:y/n\")\n",
    "dish=input(\"Enter the dish:\")\n",
    "orders=int(input(\"Enter the order quantity:\"))\n",
    "items=[\"dish1\",\"dish2\",\"dish3\",\"dish4\",\"dish5\",\"dish6\"]\n",
    "price=[30,40,50,60,45,80]\n",
    "priceout=price[items.index(dish)]\n",
    "total=orders*priceout\n",
    "if (filetype == \"y\"):\n",
    "    fileOpen() \n",
    "    if fileWrite(dish,orders,priceout,total):\n",
    "        print(\"New file created and data added successfully\")\n",
    "else:\n",
    "    if fileWrite(dish,orders,priceout,total):\n",
    "        print(\"Data added to file successfully\\n\")\n",
    "countd=[0,0,0,0,0,0]\n",
    "sumd=[0,0,0,0,0,0]\n",
    "j=0\n",
    "for line in open(\"order details.txt\",\"r+\").readlines(): #Loop to add income for each dish\n",
    "    read=line.split(\";\")\n",
    "    if read[0]==\"dish1\":\n",
    "        countd[0]=countd[0]+int(read[1])\n",
    "        sumd[0]=sumd[0]+int(read[3])\n",
    "    elif read[0]==\"dish2\":\n",
    "        countd[1]=countd[1]+int(read[1])\n",
    "        sumd[1]=sumd[1]+int(read[3])\n",
    "    elif read[0]==\"dish3\":\n",
    "        countd[2]=countd[2]+int(read[1])\n",
    "        sumd[2]=sumd[2]+int(read[3])\n",
    "    elif read[0]==\"dish4\":\n",
    "        countd[3]=countd[3]+int(read[1])\n",
    "        sumd[3]=sumd[3]+int(read[3])\n",
    "    elif read[0]==\"dish5\":\n",
    "        countd[4]=countd[4]+int(read[1])\n",
    "        sumd[4]=sumd[4]+int(read[3])\n",
    "    elif read[0]==\"dish6\":\n",
    "        countd[5]=countd[5]+int(read[1])\n",
    "        sumd[5]=sumd[5]+int(read[3])\n",
    "display=input(\"What you want to be displayed; a)current data stores b)Analytics: a/b\")\n",
    "if display==\"a\":\n",
    "    for line in open(\"order details.txt\",\"r+\"):\n",
    "        read=line.split(\";\")\n",
    "        if read[0]==\"Dish Name\":\n",
    "            print(read[0]+\" \"*5+read[1]+\" \"*5+read[2]+\" \"*5+read[3])\n",
    "        elif read[0]!=\"Dish Name\":\n",
    "            print(read[0]+\" \"*15+read[1]+\" \"*20+read[2]+\" \"*15+read[3])\n",
    "elif display==\"b\":\n",
    "    print(\"Dish Name\"+\" \"*5+\"Total Orders\"+\" \"*5+\"Total Income\")\n",
    "    for i in items:\n",
    "        print(i+\" \"*15+str(countd[j])+\" \"*15+str(sumd[j]))\n",
    "        j=j+1\n",
    "maxval=max(sumd)\n",
    "j=0\n",
    "maxarr=[None]*6\n",
    "for i in range(0,6): #Loop to find the dish having maximum income\n",
    "    if sumd[i]==maxval:\n",
    "        maxarr[j]=i\n",
    "        j=j+1\n",
    "print(\"\\nThe following dish(s) have maximum sales\")\n",
    "for i in maxarr: #Loop to display maximum values\n",
    "    if i != None:\n",
    "        print(items[i],\"- total order value =\",sumd[i])"
   ]
  }
 ],
 "metadata": {
  "kernelspec": {
   "display_name": "Python 3",
   "language": "python",
   "name": "python3"
  },
  "language_info": {
   "codemirror_mode": {
    "name": "ipython",
    "version": 3
   },
   "file_extension": ".py",
   "mimetype": "text/x-python",
   "name": "python",
   "nbconvert_exporter": "python",
   "pygments_lexer": "ipython3",
   "version": "3.11.4"
  },
  "orig_nbformat": 4
 },
 "nbformat": 4,
 "nbformat_minor": 2
}
