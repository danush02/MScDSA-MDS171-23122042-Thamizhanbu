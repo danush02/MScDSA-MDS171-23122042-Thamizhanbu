{
 "cells": [
  {
   "cell_type": "code",
   "execution_count": 1,
   "id": "067b7f10",
   "metadata": {},
   "outputs": [
    {
     "name": "stdout",
     "output_type": "stream",
     "text": [
      "hello bro\n"
     ]
    }
   ],
   "source": [
    "print(\"hello bro\")"
   ]
  },
  {
   "cell_type": "markdown",
   "id": "e080d16d",
   "metadata": {},
   "source": [
    "# Lab 01 - Write a Program to print your name and push the code to GitHub"
   ]
  }
 ],
 "metadata": {
  "kernelspec": {
   "display_name": "Python 3 (ipykernel)",
   "language": "python",
   "name": "python3"
  },
  "language_info": {
   "codemirror_mode": {
    "name": "ipython",
    "version": 3
   },
   "file_extension": ".py",
   "mimetype": "text/x-python",
   "name": "python",
   "nbconvert_exporter": "python",
   "pygments_lexer": "ipython3",
   "version": "3.11.4"
  }
 },
 "nbformat": 4,
 "nbformat_minor": 5
}
