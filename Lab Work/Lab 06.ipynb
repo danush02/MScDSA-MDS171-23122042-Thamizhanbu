{
 "cells": [
  {
   "cell_type": "markdown",
   "metadata": {},
   "source": [
    ">Date: 11-09-23\n",
    "# Lab06 - Program to count and display number of vowels for the given user input and vowels percentage"
   ]
  },
  {
   "cell_type": "code",
   "execution_count": 19,
   "metadata": {},
   "outputs": [
    {
     "name": "stdout",
     "output_type": "stream",
     "text": [
      "Total number of vowels is:  4\n",
      "Each Character count:\n",
      "Count of  a  is  2\n",
      "Count of  e  is  1\n",
      "Count of  i  is  0\n",
      "Count of  o  is  0\n",
      "Count of  u  is  1\n",
      "\n",
      "Vowels are present  57.14 %  in the word  anbuela\n"
     ]
    }
   ],
   "source": [
    "def countvow(word1): #Function to count the vowels and provide output\n",
    "    charcount=[0]*5\n",
    "    totalvow=0\n",
    "    vowels=[\"a\",\"e\",\"i\",\"o\",\"u\"] #Lower case vowels are used for comparison \n",
    "    for j in range(0,5):\n",
    "        for i in word1:\n",
    "            if vowels[j]==i:\n",
    "                charcount[j]=charcount[j]+1\n",
    "                totalvow=totalvow+1\n",
    "    print(\"Total number of vowels is: \",totalvow)\n",
    "    print(\"Each Character count:\")\n",
    "    for i in range(0,5):\n",
    "        print(\"Count of \",vowels[i],\" is \",charcount[i])\n",
    "    print(\"\\nVowels are present \",round((totalvow/len(word1))*100,2),\"%\",\" in the word \",word1) #Percentage of vowels is calculated and round is used to keep value in 2 decimal precision\n",
    "\n",
    "word=input(\"Enter the word:\")\n",
    "word=word.strip() #Used to remove preceeding and trailing spaces\n",
    "word=word.lower() #Used to transform word to its lower case\n",
    "countvow(word)"
   ]
  }
 ],
 "metadata": {
  "kernelspec": {
   "display_name": "Python 3",
   "language": "python",
   "name": "python3"
  },
  "language_info": {
   "codemirror_mode": {
    "name": "ipython",
    "version": 3
   },
   "file_extension": ".py",
   "mimetype": "text/x-python",
   "name": "python",
   "nbconvert_exporter": "python",
   "pygments_lexer": "ipython3",
   "version": "3.11.4"
  },
  "orig_nbformat": 4
 },
 "nbformat": 4,
 "nbformat_minor": 2
}
