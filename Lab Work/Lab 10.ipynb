{
 "cells": [
  {
   "cell_type": "code",
   "execution_count": 3,
   "metadata": {},
   "outputs": [],
   "source": [
    "class studentDetails:\n",
    "    def __init__(self):\n",
    "        self.student_dict={}\n",
    "    \n",
    "    def saveStudentDetails(self):\n",
    "        name=input(\"Enter student name:\")\n",
    "        regno=input(\"Enter student RollNo:\")\n",
    "        classN=input(\"Enter student class details:\")\n",
    "        marks=[]\n",
    "        for i in range(0,3):\n",
    "            marks.append(int(input(f\"Enter the subject {i} mark:\")))\n",
    "        studentDetails={\"Name\":name,\n",
    "                        \"Regno\":regno,\n",
    "                        \"Class\":classN,\n",
    "                        \"marks\":marks}\n",
    "        self.student_dict[regno]=studentDetails\n",
    "    \n",
    "    def displayDetails(self):\n",
    "        action=int(input(\"1.Display all students details\\n2.search for a student\"))\n",
    "        if action==1:\n",
    "            for i in self.student_dict:\n",
    "                print(self.student_dict[i])\n",
    "        elif action==2:\n",
    "            regno=input(\"Enter the register no. to search for:\")\n",
    "            if regno in self.student_dict.keys():\n",
    "                print(self.student_dict[regno])\n",
    "            else:\n",
    "                print(\"Student register not found\")\n",
    "    \n",
    "    def editStudentDetails(self):\n",
    "        regno=input(\"Enter the register number\")\n",
    "        if regno in self.student_dict.keys():\n",
    "            print(self.student_dict[regno])\n",
    "            action=int(input(\"Which detail needs to be edited 1.Name, 2.Class 3.Marks\"))\n",
    "            if action==1:\n",
    "                self.student_dict[regno][\"Name\"]=input(f\"Enter the name to be updated from {self.student_dict[regno]['Name']}:\")\n",
    "            elif action==2:\n",
    "                self.student_dict[regno][\"Class\"]=input(f\"Enter the class to be updated for {self.student_dict[regno]['Name']}:\")\n",
    "            elif action==3:\n",
    "                sub=int(input(\"Enter the subject number for which mark to be updated: (1/2/3)\"))\n",
    "                self.student_dict[regno][\"marks\"][sub-1]=int(input(f\"Enter the mark to be updated for subject {sub}:\"))\n",
    "        else:\n",
    "            print(\"Student register not found\")\n",
    "            "
   ]
  },
  {
   "cell_type": "code",
   "execution_count": 4,
   "metadata": {},
   "outputs": [
    {
     "name": "stdout",
     "output_type": "stream",
     "text": [
      "{'Name': 'Anbu', 'Regno': '23142', 'Class': 'MSDW', 'marks': [40, 50, 40]}\n",
      "Student register not found\n",
      "{'Name': 'Anbu', 'Regno': '23142', 'Class': 'MSDW', 'marks': [40, 50, 40]}\n",
      "{'Name': 'Thamizhanbu', 'Regno': '23142', 'Class': 'MSDW', 'marks': [40, 50, 40]}\n",
      "{'Name': 'Thamizhanbu', 'Regno': '23142', 'Class': 'MSDS', 'marks': [40, 50, 40]}\n",
      "{'Name': 'Thamizhanbu', 'Regno': '23142', 'Class': 'MSDS', 'marks': [40, 80, 40]}\n"
     ]
    },
    {
     "ename": "ValueError",
     "evalue": "invalid literal for int() with base 10: ''",
     "output_type": "error",
     "traceback": [
      "\u001b[1;31m---------------------------------------------------------------------------\u001b[0m",
      "\u001b[1;31mValueError\u001b[0m                                Traceback (most recent call last)",
      "\u001b[1;32me:\\Python Programming\\GitHub\\MScDSA-MDS171-23122042-Thamizhanbu\\Lab 10.ipynb Cell 2\u001b[0m line \u001b[0;36m3\n\u001b[0;32m      <a href='vscode-notebook-cell:/e%3A/Python%20Programming/GitHub/MScDSA-MDS171-23122042-Thamizhanbu/Lab%2010.ipynb#W2sZmlsZQ%3D%3D?line=0'>1</a>\u001b[0m teacher1\u001b[39m=\u001b[39mstudentDetails()\n\u001b[0;32m      <a href='vscode-notebook-cell:/e%3A/Python%20Programming/GitHub/MScDSA-MDS171-23122042-Thamizhanbu/Lab%2010.ipynb#W2sZmlsZQ%3D%3D?line=1'>2</a>\u001b[0m \u001b[39mwhile\u001b[39;00m \u001b[39mTrue\u001b[39;00m:\n\u001b[1;32m----> <a href='vscode-notebook-cell:/e%3A/Python%20Programming/GitHub/MScDSA-MDS171-23122042-Thamizhanbu/Lab%2010.ipynb#W2sZmlsZQ%3D%3D?line=2'>3</a>\u001b[0m     action\u001b[39m=\u001b[39m\u001b[39mint\u001b[39;49m(\u001b[39minput\u001b[39;49m(\u001b[39m\"\u001b[39;49m\u001b[39mSelect the option 1.Save Student Details\u001b[39;49m\u001b[39m\\n\u001b[39;49;00m\u001b[39m2.Display Student Details\u001b[39;49m\u001b[39m\\n\u001b[39;49;00m\u001b[39m3.Edit Student Detail\u001b[39;49m\u001b[39m\\n\u001b[39;49;00m\u001b[39m4.Exit\u001b[39;49m\u001b[39m\"\u001b[39;49m))\n\u001b[0;32m      <a href='vscode-notebook-cell:/e%3A/Python%20Programming/GitHub/MScDSA-MDS171-23122042-Thamizhanbu/Lab%2010.ipynb#W2sZmlsZQ%3D%3D?line=3'>4</a>\u001b[0m     \u001b[39mif\u001b[39;00m action\u001b[39m==\u001b[39m\u001b[39m1\u001b[39m:\n\u001b[0;32m      <a href='vscode-notebook-cell:/e%3A/Python%20Programming/GitHub/MScDSA-MDS171-23122042-Thamizhanbu/Lab%2010.ipynb#W2sZmlsZQ%3D%3D?line=4'>5</a>\u001b[0m         teacher1\u001b[39m.\u001b[39msaveStudentDetails()\n",
      "\u001b[1;31mValueError\u001b[0m: invalid literal for int() with base 10: ''"
     ]
    }
   ],
   "source": [
    "teacher1=studentDetails()\n",
    "while True:\n",
    "    action=int(input(\"Select the option 1.Save Student Details\\n2.Display Student Details\\n3.Edit Student Detail\\n4.Exit\"))\n",
    "    if action==1:\n",
    "        teacher1.saveStudentDetails()\n",
    "    elif action==2:\n",
    "        teacher1.displayDetails()\n",
    "    elif action==3:\n",
    "        teacher1.editStudentDetails()\n",
    "    elif action==4:\n",
    "        exit()\n",
    "    else:\n",
    "        print(\"Enter the correct option\")"
   ]
  }
 ],
 "metadata": {
  "kernelspec": {
   "display_name": "Python 3",
   "language": "python",
   "name": "python3"
  },
  "language_info": {
   "codemirror_mode": {
    "name": "ipython",
    "version": 3
   },
   "file_extension": ".py",
   "mimetype": "text/x-python",
   "name": "python",
   "nbconvert_exporter": "python",
   "pygments_lexer": "ipython3",
   "version": "3.11.4"
  }
 },
 "nbformat": 4,
 "nbformat_minor": 2
}
