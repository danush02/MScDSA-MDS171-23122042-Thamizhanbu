{
 "cells": [
  {
   "cell_type": "code",
   "execution_count": 25,
   "metadata": {},
   "outputs": [],
   "source": [
    "def main(names):\n",
    "    nam=input(\"Enter the name:\")\n",
    "    temp=0\n",
    "    if nam!=\"q\" and nam!='':\n",
    "        nam = nam.strip()\n",
    "        if nam in names:\n",
    "            print(\"Name already exist in the list\")\n",
    "            main(names)\n",
    "        elif nam.isdigit():\n",
    "            print(\"Enter a valid name\")\n",
    "            main(names)\n",
    "        elif nam=='':\n",
    "            print(\"Enter a valid name\")\n",
    "            main(names)\n",
    "        else:\n",
    "            names.append(nam)\n",
    "            main(names)\n",
    "    elif nam==\"q\":\n",
    "        names.sort()\n",
    "        print(names)\n",
    "        var=input(\"Is further analysis required: y/n\")\n",
    "        if var==\"y\":\n",
    "            print(\"The total names in the list: \",len(names))\n",
    "            for i in range(65,91):\n",
    "                temp=0\n",
    "                alpha=chr(i)\n",
    "                for j in names:\n",
    "                    if alpha == j[0]:\n",
    "                        temp=temp+1\n",
    "                if temp>0:\n",
    "                    print(\"Number of Vilagers having name starting with \",alpha,\"= \",temp)"
   ]
  },
  {
   "cell_type": "code",
   "execution_count": 26,
   "metadata": {},
   "outputs": [
    {
     "name": "stdout",
     "output_type": "stream",
     "text": [
      "Enter a valid name\n",
      "Enter a valid name\n",
      "['Anu', 'Bull', 'Hari', 'Rahul', 'Run', 'Shank', 'Shark', 'Tams', 'Tell', 'Viks', 'Villa', 'Yesh', 'bus']\n",
      "The total names in the list:  13\n",
      "Number of Vilagers having name starting with  A =  1\n",
      "Number of Vilagers having name starting with  B =  1\n",
      "Number of Vilagers having name starting with  H =  1\n",
      "Number of Vilagers having name starting with  R =  2\n",
      "Number of Vilagers having name starting with  S =  2\n",
      "Number of Vilagers having name starting with  T =  2\n",
      "Number of Vilagers having name starting with  V =  2\n",
      "Number of Vilagers having name starting with  Y =  1\n"
     ]
    }
   ],
   "source": [
    "names=[]\n",
    "main(names)"
   ]
  }
 ],
 "metadata": {
  "kernelspec": {
   "display_name": "Python 3",
   "language": "python",
   "name": "python3"
  },
  "language_info": {
   "codemirror_mode": {
    "name": "ipython",
    "version": 3
   },
   "file_extension": ".py",
   "mimetype": "text/x-python",
   "name": "python",
   "nbconvert_exporter": "python",
   "pygments_lexer": "ipython3",
   "version": "3.11.4"
  },
  "orig_nbformat": 4
 },
 "nbformat": 4,
 "nbformat_minor": 2
}
