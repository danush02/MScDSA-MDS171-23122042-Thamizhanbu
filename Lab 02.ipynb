{
 "cells": [
  {
   "cell_type": "markdown",
   "metadata": {},
   "source": [
    ">Date: 28/08/23\n",
    "# Lab 02 - Program to record unique names and to validate and analyze the recorded names"
   ]
  },
  {
   "cell_type": "code",
   "execution_count": 1,
   "metadata": {},
   "outputs": [],
   "source": [
    "#function to get input and store values\n",
    "def main(names):\n",
    "    nam=input(\"Enter the name:\") #Input should have first character in Uppercase\n",
    "    temp=0\n",
    "    #main loop to check the give input\n",
    "    if nam!=\"q\" and nam!='':\n",
    "        nam = nam.strip() #Removes extra space in the user input\n",
    "        if nam in names: #Check if the input is unique\n",
    "            print(\"Name already exist in the list\")\n",
    "            main(names)\n",
    "        elif nam.isdigit(): #Check if the input is not a number\n",
    "            print(\"Enter a valid name\")\n",
    "            main(names)\n",
    "        elif nam=='': #Check if the input is blank\n",
    "            print(\"Enter a valid name\")\n",
    "            main(names)\n",
    "        else:\n",
    "            names.append(nam) #Add values to the list\n",
    "            main(names) #Gets continous input till q is entered\n",
    "    elif nam==\"q\":\n",
    "        names.sort()\n",
    "        print(names)\n",
    "        var=input(\"Is further analysis required: y/n\")\n",
    "        if var==\"y\":\n",
    "            print(\"The total names in the list: \",len(names))\n",
    "            for i in range(65,91): #Count the names with respect to its first character [A-Z] \n",
    "                temp=0\n",
    "                alpha=chr(i)\n",
    "                for j in names:\n",
    "                    if alpha == j[0]:\n",
    "                        temp=temp+1\n",
    "                if temp>0:\n",
    "                    print(\"Number of Vilagers having name starting with \",alpha,\"= \",temp) #Output of each character count"
   ]
  },
  {
   "cell_type": "code",
   "execution_count": 2,
   "metadata": {},
   "outputs": [
    {
     "name": "stdout",
     "output_type": "stream",
     "text": [
      "['Lame', 'Mam', 'Near', 'Pore', 'Tam']\n",
      "The total names in the list:  5\n",
      "Number of Vilagers having name starting with  L =  1\n",
      "Number of Vilagers having name starting with  M =  1\n",
      "Number of Vilagers having name starting with  N =  1\n",
      "Number of Vilagers having name starting with  P =  1\n",
      "Number of Vilagers having name starting with  T =  1\n"
     ]
    }
   ],
   "source": [
    "names=[]\n",
    "main(names) #Function calling"
   ]
  }
 ],
 "metadata": {
  "kernelspec": {
   "display_name": "Python 3",
   "language": "python",
   "name": "python3"
  },
  "language_info": {
   "codemirror_mode": {
    "name": "ipython",
    "version": 3
   },
   "file_extension": ".py",
   "mimetype": "text/x-python",
   "name": "python",
   "nbconvert_exporter": "python",
   "pygments_lexer": "ipython3",
   "version": "3.11.4"
  },
  "orig_nbformat": 4
 },
 "nbformat": 4,
 "nbformat_minor": 2
}
