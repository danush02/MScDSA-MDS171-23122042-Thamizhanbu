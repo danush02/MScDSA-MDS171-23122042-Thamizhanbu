{
 "cells": [
  {
   "cell_type": "code",
   "execution_count": 19,
   "metadata": {},
   "outputs": [
    {
     "name": "stdout",
     "output_type": "stream",
     "text": [
      "['Call']\n",
      "['Call']\n",
      "['Call']\n",
      "['Call']\n",
      "aa\n",
      "None\n"
     ]
    }
   ],
   "source": [
    "import re\n",
    "\n",
    "def storeName(nam,names):\n",
    "    nam = nam.strip()\n",
    "    if nam in names():\n",
    "        print(\"Name already exist in the list\")\n",
    "        main(names)\n",
    "    elif type(nam)!=(\"str\"):\n",
    "        print(\"Enter a valid name\")\n",
    "        main(names)\n",
    "    else:\n",
    "        names.append(nam)\n",
    "def main(names):\n",
    "    nam=input(\"Enter the name:\")\n",
    "    if nam!=(\"q\") & nam!=\"\":\n",
    "        storeName(nam,names)\n",
    "    elif nam==(\"q\"):\n",
    "        print(names.sort())\n",
    "        var=input(\"Is further analysis required: y/n\")\n",
    "        if var==(\"y\"):\n",
    "            print(\"The total name list: \",len(names))\n",
    "            for i in range(65,91):\n",
    "                alpha=chr(i)\n",
    "                for j in names:\n",
    "                if alpha == names[1]:\n",
    "                    temp=0\n",
    "                    temp=temp+1\n",
    "                    \n",
    "                \n",
    "        \n"
   ]
  }
 ],
 "metadata": {
  "kernelspec": {
   "display_name": "Python 3",
   "language": "python",
   "name": "python3"
  },
  "language_info": {
   "codemirror_mode": {
    "name": "ipython",
    "version": 3
   },
   "file_extension": ".py",
   "mimetype": "text/x-python",
   "name": "python",
   "nbconvert_exporter": "python",
   "pygments_lexer": "ipython3",
   "version": "3.11.4"
  },
  "orig_nbformat": 4
 },
 "nbformat": 4,
 "nbformat_minor": 2
}
